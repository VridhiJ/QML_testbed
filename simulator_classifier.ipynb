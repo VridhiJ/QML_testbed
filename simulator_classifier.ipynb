{
 "cells": [
  {
   "cell_type": "code",
   "execution_count": null,
   "metadata": {},
   "outputs": [],
   "source": [
    "import numpy as np"
   ]
  },
  {
   "cell_type": "code",
   "execution_count": null,
   "metadata": {},
   "outputs": [],
   "source": [
    "def generate_gate_voltages(n_samples=1000, seed=42):\n",
    "    np.random.seed(seed)\n",
    "    return np.random.uniform(-1, 1, size=(n_samples, 3))\n",
    "\n",
    "def assign_dot_states(X):\n",
    "    Y = []\n",
    "    for v in X:\n",
    "        if v[0] + v[1] > 0.5:\n",
    "            Y.append(2)  # double dot\n",
    "        elif v[0] > 0.3:\n",
    "            Y.append(1)  # single dot\n",
    "        else:\n",
    "            Y.append(0)  # no dot\n",
    "    return np.array(Y)\n",
    "\n",
    "def add_noise(X, noise_level=0.05):\n",
    "    return X + np.random.normal(0, noise_level, X.shape)\n",
    "\n",
    "X_raw = generate_gate_voltages()\n",
    "Y = assign_dot_states(X_raw)\n",
    "X_noisy = add_noise(X_raw)"
   ]
  }
 ],
 "metadata": {
  "language_info": {
   "name": "python"
  }
 },
 "nbformat": 4,
 "nbformat_minor": 2
}
